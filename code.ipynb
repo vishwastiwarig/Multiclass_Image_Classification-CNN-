{
 "cells": [
  {
   "cell_type": "markdown",
   "metadata": {},
   "source": [
    "# <p style=\"text-align: center;\">Multiclass Image Classification Using CNN</p>"
   ]
  },
  {
   "cell_type": "markdown",
   "metadata": {},
   "source": [
    "In this notebook I have shown how a simple CNN is implemented on a multiclass image classification problem. I have covered\n",
    "\n",
    "**1.** How to create a CNN Model and Train it.\n",
    "\n",
    "**2.** How to evaluate the model on test set using different classification metrics.\n",
    "\n",
    "**3.** How to visualize the images present in the training and test set.\n",
    "\n",
    "\n",
    "I hope you find this kernel helpful and some **<span style=\"color:red\">UPVOTES</span>** would be very much appreciated"
   ]
  },
  {
   "cell_type": "markdown",
   "metadata": {},
   "source": [
    "### **1. Import the Required Libraries**"
   ]
  },
  {
   "cell_type": "code",
   "execution_count": null,
   "metadata": {
    "execution": {
     "iopub.execute_input": "2022-02-06T07:55:54.652348Z",
     "iopub.status.busy": "2022-02-06T07:55:54.652032Z",
     "iopub.status.idle": "2022-02-06T07:56:00.85064Z",
     "shell.execute_reply": "2022-02-06T07:56:00.849881Z",
     "shell.execute_reply.started": "2022-02-06T07:55:54.652269Z"
    },
    "trusted": true
   },
   "outputs": [],
   "source": [
    "import numpy as np\n",
    "import matplotlib.pyplot as plt\n",
    "import seaborn as sns\n",
    "%matplotlib inline\n",
    "\n",
    "import cv2\n",
    "import os\n",
    "os.environ[\"TF_CPP_MIN_LOG_LEVEL\"] = \"2\"\n",
    "import warnings\n",
    "warnings.filterwarnings('ignore')\n",
    "\n",
    "from sklearn.metrics import confusion_matrix, classification_report\n",
    "\n",
    "import tensorflow as tf\n",
    "from tensorflow.keras.models import Sequential\n",
    "from tensorflow.keras.layers import Activation, BatchNormalization, Conv2D, Dense, Dropout, Flatten, MaxPooling2D\n",
    "from tensorflow.keras.preprocessing.image import ImageDataGenerator\n",
    "from tensorflow.keras.optimizers import Adam\n",
    "from tensorflow.keras.losses import CategoricalCrossentropy\n",
    "from tensorflow.keras.regularizers import l2\n",
    "from tensorflow.keras.callbacks import ReduceLROnPlateau, EarlyStopping"
   ]
  },
  {
   "cell_type": "markdown",
   "metadata": {},
   "source": [
    "### **2. Load the Image Training and Validation Datasets**"
   ]
  },
  {
   "cell_type": "markdown",
   "metadata": {},
   "source": [
    "#### **i. Get the Image Dataset Paths**"
   ]
  },
  {
   "cell_type": "code",
   "execution_count": null,
   "metadata": {
    "execution": {
     "iopub.execute_input": "2022-02-06T07:56:00.853691Z",
     "iopub.status.busy": "2022-02-06T07:56:00.853446Z",
     "iopub.status.idle": "2022-02-06T07:56:00.862184Z",
     "shell.execute_reply": "2022-02-06T07:56:00.861313Z",
     "shell.execute_reply.started": "2022-02-06T07:56:00.853656Z"
    },
    "trusted": true
   },
   "outputs": [],
   "source": [
    "train_dataset_path = '/kaggle/input/intel-image-classification/seg_train/seg_train/'\n",
    "validation_dataset_path = '/kaggle/input/intel-image-classification/seg_test/seg_test/'"
   ]
  },
  {
   "cell_type": "markdown",
   "metadata": {},
   "source": [
    "#### **ii. Load Image Datasets and Apply Augmentations**"
   ]
  },
  {
   "cell_type": "markdown",
   "metadata": {},
   "source": [
    "Since the images present in the datasets are 150x150px in size, the image height and width are taken as 150, 150 respectively. The batch size value can be changed if required."
   ]
  },
  {
   "cell_type": "code",
   "execution_count": null,
   "metadata": {
    "execution": {
     "iopub.execute_input": "2022-02-06T07:56:00.869602Z",
     "iopub.status.busy": "2022-02-06T07:56:00.868913Z",
     "iopub.status.idle": "2022-02-06T07:56:00.873901Z",
     "shell.execute_reply": "2022-02-06T07:56:00.873028Z",
     "shell.execute_reply.started": "2022-02-06T07:56:00.869564Z"
    },
    "trusted": true
   },
   "outputs": [],
   "source": [
    "IMG_WIDTH = 150\n",
    "IMG_HEIGHT = 150\n",
    "BATCH_SIZE = 32"
   ]
  },
  {
   "cell_type": "markdown",
   "metadata": {},
   "source": [
    "Loading the training dataset and applying augmentations on it."
   ]
  },
  {
   "cell_type": "code",
   "execution_count": null,
   "metadata": {
    "execution": {
     "iopub.execute_input": "2022-02-06T07:56:00.87607Z",
     "iopub.status.busy": "2022-02-06T07:56:00.875523Z",
     "iopub.status.idle": "2022-02-06T07:56:04.835404Z",
     "shell.execute_reply": "2022-02-06T07:56:04.834627Z",
     "shell.execute_reply.started": "2022-02-06T07:56:00.876035Z"
    },
    "trusted": true
   },
   "outputs": [],
   "source": [
    "train_datagen = ImageDataGenerator(rescale=1.0/255,\n",
    "                                  zoom_range=0.2,\n",
    "                                  width_shift_range=0.2,\n",
    "                                  height_shift_range=0.2,\n",
    "                                  fill_mode='nearest')\n",
    "train_generator = train_datagen.flow_from_directory(train_dataset_path,\n",
    "                                                   target_size=(IMG_WIDTH, IMG_HEIGHT),\n",
    "                                                   batch_size=BATCH_SIZE,\n",
    "                                                   class_mode='categorical',\n",
    "                                                   shuffle=True)"
   ]
  },
  {
   "cell_type": "markdown",
   "metadata": {},
   "source": [
    "Loading the validation dataset."
   ]
  },
  {
   "cell_type": "code",
   "execution_count": null,
   "metadata": {
    "execution": {
     "iopub.execute_input": "2022-02-06T07:56:04.836953Z",
     "iopub.status.busy": "2022-02-06T07:56:04.836654Z",
     "iopub.status.idle": "2022-02-06T07:56:05.358417Z",
     "shell.execute_reply": "2022-02-06T07:56:05.357678Z",
     "shell.execute_reply.started": "2022-02-06T07:56:04.836923Z"
    },
    "trusted": true
   },
   "outputs": [],
   "source": [
    "validation_datagen = ImageDataGenerator(rescale=1.0/255)\n",
    "validation_generator = validation_datagen.flow_from_directory(validation_dataset_path,\n",
    "                                                             target_size=(IMG_WIDTH, IMG_HEIGHT),\n",
    "                                                             batch_size=BATCH_SIZE,\n",
    "                                                             class_mode='categorical',\n",
    "                                                             shuffle=True)"
   ]
  },
  {
   "cell_type": "markdown",
   "metadata": {},
   "source": [
    "#### **iii. Get the Label Mappings**"
   ]
  },
  {
   "cell_type": "markdown",
   "metadata": {},
   "source": [
    "The labels dictionary is made in order to retrive the class names against the label indices used for training the model"
   ]
  },
  {
   "cell_type": "code",
   "execution_count": null,
   "metadata": {
    "execution": {
     "iopub.execute_input": "2022-02-06T07:56:05.360973Z",
     "iopub.status.busy": "2022-02-06T07:56:05.359601Z",
     "iopub.status.idle": "2022-02-06T07:56:05.367664Z",
     "shell.execute_reply": "2022-02-06T07:56:05.366867Z",
     "shell.execute_reply.started": "2022-02-06T07:56:05.36093Z"
    },
    "trusted": true
   },
   "outputs": [],
   "source": [
    "labels = {value: key for key, value in train_generator.class_indices.items()}\n",
    "\n",
    "print(\"Label Mappings for classes present in the training and validation datasets\\n\")\n",
    "for key, value in labels.items():\n",
    "    print(f\"{key} : {value}\")"
   ]
  },
  {
   "cell_type": "markdown",
   "metadata": {
    "execution": {
     "iopub.execute_input": "2022-02-03T20:16:06.125325Z",
     "iopub.status.busy": "2022-02-03T20:16:06.124944Z",
     "iopub.status.idle": "2022-02-03T20:16:06.130307Z",
     "shell.execute_reply": "2022-02-03T20:16:06.129222Z",
     "shell.execute_reply.started": "2022-02-03T20:16:06.125223Z"
    }
   },
   "source": [
    "### **3. Plotting Sample Training Images**"
   ]
  },
  {
   "cell_type": "code",
   "execution_count": null,
   "metadata": {
    "execution": {
     "iopub.execute_input": "2022-02-06T07:56:05.369864Z",
     "iopub.status.busy": "2022-02-06T07:56:05.368886Z",
     "iopub.status.idle": "2022-02-06T07:56:09.932206Z",
     "shell.execute_reply": "2022-02-06T07:56:09.930253Z",
     "shell.execute_reply.started": "2022-02-06T07:56:05.369808Z"
    },
    "trusted": true
   },
   "outputs": [],
   "source": [
    "fig, ax = plt.subplots(nrows=2, ncols=5, figsize=(15, 12))\n",
    "idx = 0\n",
    "\n",
    "for i in range(2):\n",
    "    for j in range(5):\n",
    "        label = labels[np.argmax(train_generator[0][1][idx])]\n",
    "        ax[i, j].set_title(f\"{label}\")\n",
    "        ax[i, j].imshow(train_generator[0][0][idx][:, :, :])\n",
    "        ax[i, j].axis(\"off\")\n",
    "        idx += 1\n",
    "\n",
    "plt.tight_layout()\n",
    "plt.suptitle(\"Sample Training Images\", fontsize=21)\n",
    "plt.show()"
   ]
  },
  {
   "cell_type": "markdown",
   "metadata": {},
   "source": [
    "### **4. Training a CNN Model**"
   ]
  },
  {
   "cell_type": "markdown",
   "metadata": {},
   "source": [
    "Since the training dataset is ready let's create a simple CNN Model to train on the image datasets"
   ]
  },
  {
   "cell_type": "markdown",
   "metadata": {},
   "source": [
    "#### **i. Create a CNN Model**"
   ]
  },
  {
   "cell_type": "code",
   "execution_count": null,
   "metadata": {
    "execution": {
     "iopub.execute_input": "2022-02-06T07:56:09.933433Z",
     "iopub.status.busy": "2022-02-06T07:56:09.933208Z",
     "iopub.status.idle": "2022-02-06T07:56:09.943691Z",
     "shell.execute_reply": "2022-02-06T07:56:09.943041Z",
     "shell.execute_reply.started": "2022-02-06T07:56:09.933403Z"
    },
    "trusted": true
   },
   "outputs": [],
   "source": [
    "def create_model():\n",
    "    model = Sequential([\n",
    "        Conv2D(filters=128, kernel_size=(5, 5), padding='valid', input_shape=(IMG_WIDTH, IMG_HEIGHT, 3)),\n",
    "        Activation('relu'),\n",
    "        MaxPooling2D(pool_size=(2, 2)),\n",
    "        BatchNormalization(),\n",
    "        \n",
    "        Conv2D(filters=64, kernel_size=(3, 3), padding='valid', kernel_regularizer=l2(0.00005)),\n",
    "        Activation('relu'),\n",
    "        MaxPooling2D(pool_size=(2, 2)),\n",
    "        BatchNormalization(),\n",
    "        \n",
    "        Conv2D(filters=32, kernel_size=(3, 3), padding='valid', kernel_regularizer=l2(0.00005)),\n",
    "        Activation('relu'),\n",
    "        MaxPooling2D(pool_size=(2, 2)),\n",
    "        BatchNormalization(),\n",
    "        \n",
    "        Flatten(),\n",
    "        \n",
    "        Dense(units=256, activation='relu'),\n",
    "        Dropout(0.5),\n",
    "        Dense(units=6, activation='softmax')\n",
    "    ])\n",
    "    \n",
    "    return model"
   ]
  },
  {
   "cell_type": "code",
   "execution_count": null,
   "metadata": {
    "execution": {
     "iopub.execute_input": "2022-02-06T07:56:09.947967Z",
     "iopub.status.busy": "2022-02-06T07:56:09.947337Z",
     "iopub.status.idle": "2022-02-06T07:56:12.422523Z",
     "shell.execute_reply": "2022-02-06T07:56:12.42184Z",
     "shell.execute_reply.started": "2022-02-06T07:56:09.947894Z"
    },
    "trusted": true
   },
   "outputs": [],
   "source": [
    "cnn_model = create_model()"
   ]
  },
  {
   "cell_type": "code",
   "execution_count": null,
   "metadata": {
    "execution": {
     "iopub.execute_input": "2022-02-06T07:56:12.424206Z",
     "iopub.status.busy": "2022-02-06T07:56:12.423958Z",
     "iopub.status.idle": "2022-02-06T07:56:12.438436Z",
     "shell.execute_reply": "2022-02-06T07:56:12.437767Z",
     "shell.execute_reply.started": "2022-02-06T07:56:12.424174Z"
    },
    "trusted": true
   },
   "outputs": [],
   "source": [
    "print(cnn_model.summary())"
   ]
  },
  {
   "cell_type": "markdown",
   "metadata": {},
   "source": [
    "#### **ii. Defining Callbacks**"
   ]
  },
  {
   "cell_type": "markdown",
   "metadata": {},
   "source": [
    "A callback is an object that can perform actions at various stages of training (e.g. at the start or end of an epoch, before or after a single batch, etc)"
   ]
  },
  {
   "cell_type": "markdown",
   "metadata": {},
   "source": [
    "#### **a. Reduce Learning Rate on Plateau**\n",
    "\n",
    "Is used to reduce the learning rate when a metric has stopped improving."
   ]
  },
  {
   "cell_type": "code",
   "execution_count": null,
   "metadata": {
    "execution": {
     "iopub.execute_input": "2022-02-06T07:56:12.439974Z",
     "iopub.status.busy": "2022-02-06T07:56:12.439704Z",
     "iopub.status.idle": "2022-02-06T07:56:12.443842Z",
     "shell.execute_reply": "2022-02-06T07:56:12.44313Z",
     "shell.execute_reply.started": "2022-02-06T07:56:12.439942Z"
    },
    "trusted": true
   },
   "outputs": [],
   "source": [
    "reduce_lr = ReduceLROnPlateau(monitor='val_loss', factor=np.sqrt(0.1), patience=5)"
   ]
  },
  {
   "cell_type": "markdown",
   "metadata": {},
   "source": [
    "#### **iii. Defining the Optimizer**"
   ]
  },
  {
   "cell_type": "code",
   "execution_count": null,
   "metadata": {
    "execution": {
     "iopub.execute_input": "2022-02-06T07:56:12.445339Z",
     "iopub.status.busy": "2022-02-06T07:56:12.445114Z",
     "iopub.status.idle": "2022-02-06T07:56:12.455836Z",
     "shell.execute_reply": "2022-02-06T07:56:12.454923Z",
     "shell.execute_reply.started": "2022-02-06T07:56:12.445309Z"
    },
    "trusted": true
   },
   "outputs": [],
   "source": [
    "optimizer = Adam(learning_rate=0.001)"
   ]
  },
  {
   "cell_type": "markdown",
   "metadata": {},
   "source": [
    "#### **iv. Compile the Model**"
   ]
  },
  {
   "cell_type": "code",
   "execution_count": null,
   "metadata": {
    "execution": {
     "iopub.execute_input": "2022-02-06T07:56:12.459298Z",
     "iopub.status.busy": "2022-02-06T07:56:12.459064Z",
     "iopub.status.idle": "2022-02-06T07:56:12.472999Z",
     "shell.execute_reply": "2022-02-06T07:56:12.472258Z",
     "shell.execute_reply.started": "2022-02-06T07:56:12.459274Z"
    },
    "trusted": true
   },
   "outputs": [],
   "source": [
    "cnn_model.compile(optimizer=optimizer, loss=CategoricalCrossentropy(), metrics=['accuracy'])"
   ]
  },
  {
   "cell_type": "markdown",
   "metadata": {},
   "source": [
    "#### **v. Training the Model**"
   ]
  },
  {
   "cell_type": "code",
   "execution_count": null,
   "metadata": {
    "execution": {
     "iopub.execute_input": "2022-02-06T07:56:12.474682Z",
     "iopub.status.busy": "2022-02-06T07:56:12.474434Z",
     "iopub.status.idle": "2022-02-06T09:08:35.105188Z",
     "shell.execute_reply": "2022-02-06T09:08:35.104354Z",
     "shell.execute_reply.started": "2022-02-06T07:56:12.47465Z"
    },
    "trusted": true
   },
   "outputs": [],
   "source": [
    "history = cnn_model.fit(train_generator, epochs=50, validation_data=validation_generator,\n",
    "                       verbose=2,\n",
    "                       callbacks=[reduce_lr])"
   ]
  },
  {
   "cell_type": "markdown",
   "metadata": {},
   "source": [
    "### **5. Plotting the Model Metrics**"
   ]
  },
  {
   "cell_type": "markdown",
   "metadata": {},
   "source": [
    "#### **i. Plotting training and validation accuracy, loss and learning rate**"
   ]
  },
  {
   "cell_type": "code",
   "execution_count": null,
   "metadata": {
    "execution": {
     "iopub.execute_input": "2022-02-06T09:08:35.107262Z",
     "iopub.status.busy": "2022-02-06T09:08:35.106864Z",
     "iopub.status.idle": "2022-02-06T09:08:35.112714Z",
     "shell.execute_reply": "2022-02-06T09:08:35.111998Z",
     "shell.execute_reply.started": "2022-02-06T09:08:35.107224Z"
    },
    "trusted": true
   },
   "outputs": [],
   "source": [
    "train_accuracy = history.history['accuracy']\n",
    "val_accuracy = history.history['val_accuracy']\n",
    "\n",
    "train_loss = history.history['loss']\n",
    "val_loss = history.history['val_loss']\n",
    "\n",
    "learning_rate = history.history['lr']"
   ]
  },
  {
   "cell_type": "code",
   "execution_count": null,
   "metadata": {
    "execution": {
     "iopub.execute_input": "2022-02-06T09:08:35.114084Z",
     "iopub.status.busy": "2022-02-06T09:08:35.113752Z",
     "iopub.status.idle": "2022-02-06T09:08:35.596263Z",
     "shell.execute_reply": "2022-02-06T09:08:35.595639Z",
     "shell.execute_reply.started": "2022-02-06T09:08:35.114047Z"
    },
    "trusted": true
   },
   "outputs": [],
   "source": [
    "fig, ax = plt.subplots(nrows=3, ncols=1, figsize=(12, 10))\n",
    "\n",
    "ax[0].set_title('Training Accuracy vs. Epochs')\n",
    "ax[0].plot(train_accuracy, 'o-', label='Train Accuracy')\n",
    "ax[0].plot(val_accuracy, 'o-', label='Validation Accuracy')\n",
    "ax[0].set_xlabel('Epochs')\n",
    "ax[0].set_ylabel('Accuracy')\n",
    "ax[0].legend(loc='best')\n",
    "\n",
    "ax[1].set_title('Training/Validation Loss vs. Epochs')\n",
    "ax[1].plot(train_loss, 'o-', label='Train Loss')\n",
    "ax[1].plot(val_loss, 'o-', label='Validation Loss')\n",
    "ax[1].set_xlabel('Epochs')\n",
    "ax[1].set_ylabel('Loss')\n",
    "ax[1].legend(loc='best')\n",
    "\n",
    "ax[2].set_title('Learning Rate vs. Epochs')\n",
    "ax[2].plot(learning_rate, 'o-', label='Learning Rate')\n",
    "ax[2].set_xlabel('Epochs')\n",
    "ax[2].set_ylabel('Loss')\n",
    "ax[2].legend(loc='best')\n",
    "\n",
    "plt.tight_layout()\n",
    "plt.show()"
   ]
  },
  {
   "cell_type": "markdown",
   "metadata": {},
   "source": [
    "### **6. Testing the Model on Test Set**"
   ]
  },
  {
   "cell_type": "markdown",
   "metadata": {},
   "source": [
    "Testing the model on the validation dataset because a seperate dataset for testing is not available."
   ]
  },
  {
   "cell_type": "code",
   "execution_count": null,
   "metadata": {
    "execution": {
     "iopub.execute_input": "2022-02-06T09:08:35.598099Z",
     "iopub.status.busy": "2022-02-06T09:08:35.597425Z",
     "iopub.status.idle": "2022-02-06T09:08:35.601786Z",
     "shell.execute_reply": "2022-02-06T09:08:35.601157Z",
     "shell.execute_reply.started": "2022-02-06T09:08:35.598061Z"
    },
    "trusted": true
   },
   "outputs": [],
   "source": [
    "test_dataset = '/kaggle/input/intel-image-classification/seg_test/seg_test/'"
   ]
  },
  {
   "cell_type": "code",
   "execution_count": null,
   "metadata": {
    "execution": {
     "iopub.execute_input": "2022-02-06T09:08:35.60354Z",
     "iopub.status.busy": "2022-02-06T09:08:35.602904Z",
     "iopub.status.idle": "2022-02-06T09:08:35.731227Z",
     "shell.execute_reply": "2022-02-06T09:08:35.730494Z",
     "shell.execute_reply.started": "2022-02-06T09:08:35.603503Z"
    },
    "trusted": true
   },
   "outputs": [],
   "source": [
    "test_datagen = ImageDataGenerator(rescale=1.0/255)\n",
    "\n",
    "test_generator = test_datagen.flow_from_directory(test_dataset,\n",
    "                                                 shuffle=False,\n",
    "                                                 batch_size=BATCH_SIZE,\n",
    "                                                 target_size = (IMG_WIDTH, IMG_HEIGHT),\n",
    "                                                 class_mode='categorical')"
   ]
  },
  {
   "cell_type": "markdown",
   "metadata": {},
   "source": [
    "### **7. Model Prediction on the Test Dataset**"
   ]
  },
  {
   "cell_type": "code",
   "execution_count": null,
   "metadata": {
    "execution": {
     "iopub.execute_input": "2022-02-06T09:08:35.732552Z",
     "iopub.status.busy": "2022-02-06T09:08:35.732292Z",
     "iopub.status.idle": "2022-02-06T09:08:39.844967Z",
     "shell.execute_reply": "2022-02-06T09:08:39.844211Z",
     "shell.execute_reply.started": "2022-02-06T09:08:35.732519Z"
    },
    "trusted": true
   },
   "outputs": [],
   "source": [
    "predictions = cnn_model.predict(test_generator)"
   ]
  },
  {
   "cell_type": "code",
   "execution_count": null,
   "metadata": {
    "execution": {
     "iopub.execute_input": "2022-02-06T09:08:39.846766Z",
     "iopub.status.busy": "2022-02-06T09:08:39.84651Z",
     "iopub.status.idle": "2022-02-06T09:08:40.817256Z",
     "shell.execute_reply": "2022-02-06T09:08:40.816576Z",
     "shell.execute_reply.started": "2022-02-06T09:08:39.846732Z"
    },
    "trusted": true
   },
   "outputs": [],
   "source": [
    "fig, ax = plt.subplots(nrows=2, ncols=5, figsize=(12, 10))\n",
    "idx = 0\n",
    "\n",
    "for i in range(2):\n",
    "    for j in range(5):\n",
    "        predicted_label = labels[np.argmax(predictions[idx])]\n",
    "        ax[i, j].set_title(f\"{predicted_label}\")\n",
    "        ax[i, j].imshow(test_generator[0][0][idx])\n",
    "        ax[i, j].axis(\"off\")\n",
    "        idx += 1\n",
    "\n",
    "plt.tight_layout()\n",
    "plt.suptitle(\"Test Dataset Predictions\", fontsize=20)\n",
    "plt.show()"
   ]
  },
  {
   "cell_type": "code",
   "execution_count": null,
   "metadata": {
    "execution": {
     "iopub.execute_input": "2022-02-06T09:08:40.818746Z",
     "iopub.status.busy": "2022-02-06T09:08:40.818402Z",
     "iopub.status.idle": "2022-02-06T09:08:45.298119Z",
     "shell.execute_reply": "2022-02-06T09:08:45.29724Z",
     "shell.execute_reply.started": "2022-02-06T09:08:40.818715Z"
    },
    "trusted": true
   },
   "outputs": [],
   "source": [
    "test_loss, test_accuracy = cnn_model.evaluate(test_generator, batch_size=BATCH_SIZE)"
   ]
  },
  {
   "cell_type": "code",
   "execution_count": null,
   "metadata": {
    "execution": {
     "iopub.execute_input": "2022-02-06T09:08:45.3023Z",
     "iopub.status.busy": "2022-02-06T09:08:45.301884Z",
     "iopub.status.idle": "2022-02-06T09:08:45.312384Z",
     "shell.execute_reply": "2022-02-06T09:08:45.311513Z",
     "shell.execute_reply.started": "2022-02-06T09:08:45.302262Z"
    },
    "trusted": true
   },
   "outputs": [],
   "source": [
    "print(f\"Test Loss:     {test_loss}\")\n",
    "print(f\"Test Accuracy: {test_accuracy}\")"
   ]
  },
  {
   "cell_type": "markdown",
   "metadata": {},
   "source": [
    "The test loss and test accuracy is the same as validation loss and validation accuracy at the last step since the testing and validation datasets are same."
   ]
  },
  {
   "cell_type": "markdown",
   "metadata": {},
   "source": [
    "### **8. Plotting the Classification Metrics**"
   ]
  },
  {
   "cell_type": "markdown",
   "metadata": {},
   "source": [
    "### **i. Confusion Matrix**"
   ]
  },
  {
   "cell_type": "code",
   "execution_count": null,
   "metadata": {
    "execution": {
     "iopub.execute_input": "2022-02-06T09:08:45.31436Z",
     "iopub.status.busy": "2022-02-06T09:08:45.31409Z",
     "iopub.status.idle": "2022-02-06T09:08:45.320425Z",
     "shell.execute_reply": "2022-02-06T09:08:45.319666Z",
     "shell.execute_reply.started": "2022-02-06T09:08:45.314324Z"
    },
    "trusted": true
   },
   "outputs": [],
   "source": [
    "y_pred = np.argmax(predictions, axis=1)\n",
    "y_true = test_generator.classes"
   ]
  },
  {
   "cell_type": "code",
   "execution_count": null,
   "metadata": {
    "execution": {
     "iopub.execute_input": "2022-02-06T09:08:45.322414Z",
     "iopub.status.busy": "2022-02-06T09:08:45.321785Z",
     "iopub.status.idle": "2022-02-06T09:08:45.804645Z",
     "shell.execute_reply": "2022-02-06T09:08:45.803997Z",
     "shell.execute_reply.started": "2022-02-06T09:08:45.322377Z"
    },
    "trusted": true
   },
   "outputs": [],
   "source": [
    "cf_mtx = confusion_matrix(y_true, y_pred)\n",
    "\n",
    "group_counts = [\"{0:0.0f}\".format(value) for value in cf_mtx.flatten()]\n",
    "group_percentages = [\"{0:.2%}\".format(value) for value in cf_mtx.flatten()/np.sum(cf_mtx)]\n",
    "box_labels = [f\"{v1}\\n({v2})\" for v1, v2 in zip(group_counts, group_percentages)]\n",
    "box_labels = np.asarray(box_labels).reshape(6, 6)\n",
    "\n",
    "plt.figure(figsize = (12, 10))\n",
    "sns.heatmap(cf_mtx, xticklabels=labels.values(), yticklabels=labels.values(),\n",
    "           cmap=\"YlGnBu\", fmt=\"\", annot=box_labels)\n",
    "plt.xlabel('Predicted Classes')\n",
    "plt.ylabel('True Classes')\n",
    "plt.show()"
   ]
  },
  {
   "cell_type": "code",
   "execution_count": null,
   "metadata": {
    "execution": {
     "iopub.execute_input": "2022-02-06T09:08:45.806001Z",
     "iopub.status.busy": "2022-02-06T09:08:45.805648Z",
     "iopub.status.idle": "2022-02-06T09:08:45.819247Z",
     "shell.execute_reply": "2022-02-06T09:08:45.818537Z",
     "shell.execute_reply.started": "2022-02-06T09:08:45.80597Z"
    },
    "trusted": true
   },
   "outputs": [],
   "source": [
    "print(classification_report(y_true, y_pred, target_names=labels.values()))"
   ]
  },
  {
   "cell_type": "markdown",
   "metadata": {},
   "source": [
    "### **9. Wrong Predictions**\n",
    "\n",
    "Let's see where the model has given wrong predictions and what were the actual predictions on those images."
   ]
  },
  {
   "cell_type": "code",
   "execution_count": null,
   "metadata": {
    "execution": {
     "iopub.execute_input": "2022-02-06T09:08:45.820828Z",
     "iopub.status.busy": "2022-02-06T09:08:45.820561Z",
     "iopub.status.idle": "2022-02-06T09:08:45.824987Z",
     "shell.execute_reply": "2022-02-06T09:08:45.824227Z",
     "shell.execute_reply.started": "2022-02-06T09:08:45.820773Z"
    },
    "trusted": true
   },
   "outputs": [],
   "source": [
    "errors = (y_true - y_pred != 0)\n",
    "y_true_errors = y_true[errors]\n",
    "y_pred_errors = y_pred[errors]"
   ]
  },
  {
   "cell_type": "code",
   "execution_count": null,
   "metadata": {
    "execution": {
     "iopub.execute_input": "2022-02-06T09:08:45.829352Z",
     "iopub.status.busy": "2022-02-06T09:08:45.828813Z",
     "iopub.status.idle": "2022-02-06T09:08:45.83489Z",
     "shell.execute_reply": "2022-02-06T09:08:45.834164Z",
     "shell.execute_reply.started": "2022-02-06T09:08:45.829234Z"
    },
    "trusted": true
   },
   "outputs": [],
   "source": [
    "test_images = test_generator.filenames\n",
    "test_img = np.asarray(test_images)[errors]"
   ]
  },
  {
   "cell_type": "code",
   "execution_count": null,
   "metadata": {
    "execution": {
     "iopub.execute_input": "2022-02-06T09:08:45.838784Z",
     "iopub.status.busy": "2022-02-06T09:08:45.837316Z",
     "iopub.status.idle": "2022-02-06T09:08:46.520973Z",
     "shell.execute_reply": "2022-02-06T09:08:46.520318Z",
     "shell.execute_reply.started": "2022-02-06T09:08:45.838755Z"
    },
    "trusted": true
   },
   "outputs": [],
   "source": [
    "fig, ax = plt.subplots(nrows=2, ncols=5, figsize=(12, 10))\n",
    "idx = 0\n",
    "\n",
    "for i in range(2):\n",
    "    for j in range(5):\n",
    "        idx = np.random.randint(0, len(test_img))\n",
    "        true_index = y_true_errors[idx]\n",
    "        true_label = labels[true_index]\n",
    "        predicted_index = y_pred_errors[idx]\n",
    "        predicted_label = labels[predicted_index]\n",
    "        ax[i, j].set_title(f\"True Label: {true_label} \\n Predicted Label: {predicted_label}\")\n",
    "        img_path = os.path.join(test_dataset, test_img[idx])\n",
    "        img = cv2.imread(img_path)\n",
    "        img = cv2.cvtColor(img, cv2.COLOR_BGR2RGB)\n",
    "        ax[i, j].imshow(img)\n",
    "        ax[i, j].axis(\"off\")\n",
    "\n",
    "plt.tight_layout()\n",
    "plt.suptitle('Wrong Predictions made on test set', fontsize=20)\n",
    "plt.show()"
   ]
  },
  {
   "cell_type": "markdown",
   "metadata": {},
   "source": [
    "I hope you found this notebook helpful. Suggestions are welcome."
   ]
  }
 ],
 "metadata": {
  "kaggle": {
   "accelerator": "gpu",
   "dataSources": [
    {
     "datasetId": 111880,
     "sourceId": 269359,
     "sourceType": "datasetVersion"
    }
   ],
   "dockerImageVersionId": 30158,
   "isGpuEnabled": true,
   "isInternetEnabled": true,
   "language": "python",
   "sourceType": "notebook"
  },
  "kernelspec": {
   "display_name": "Python 3",
   "language": "python",
   "name": "python3"
  },
  "language_info": {
   "codemirror_mode": {
    "name": "ipython",
    "version": 3
   },
   "file_extension": ".py",
   "mimetype": "text/x-python",
   "name": "python",
   "nbconvert_exporter": "python",
   "pygments_lexer": "ipython3",
   "version": "3.11.4"
  }
 },
 "nbformat": 4,
 "nbformat_minor": 4
}
